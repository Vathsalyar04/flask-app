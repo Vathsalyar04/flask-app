{
 "cells": [
  {
   "cell_type": "code",
   "execution_count": 3,
   "id": "45f3ab01-ae57-4c0b-a919-030231b77785",
   "metadata": {},
   "outputs": [
    {
     "name": "stdout",
     "output_type": "stream",
     "text": [
      "[24.]\n"
     ]
    },
    {
     "data": {
      "image/png": "[encoded data removed]",
      "text/plain": [
       "<Figure size 640x480 with 1 Axes>"
      ]
     },
     "metadata": {},
     "output_type": "display_data"
    }
   ],
   "source": [
    "import matplotlib\n",
    "import matplotlib.pyplot as plt\n",
    "import numpy as np\n",
    "import pandas as pd\n",
    "import sklearn\n",
    "from sklearn import linear_model\n",
    "height=[[4.0],[5.0],[6.0],[7.0],[8.0],[9.0],[10.0]]\n",
    "weight=[  8, 10 , 12, 14, 16, 18, 20]\n",
    "plt.scatter(height,weight,color='black')\n",
    "plt.xlabel(\"height\")\n",
    "plt.ylabel(\"weight\")\n",
    "reg=linear_model.LinearRegression()\n",
    "reg.fit(height,weight)\n",
    "X_height=[[12.0]]\n",
    "print(reg.predict(X_height))"
   ]
  },
  {
   "cell_type": "code",
   "execution_count": 4,
   "id": "4d1b71aa-83ac-46cc-8671-74183b30889b",
   "metadata": {},
   "outputs": [
    {
     "name": "stdout",
     "output_type": "stream",
     "text": [
      "[123.]\n"
     ]
    },
    {
     "data": {
      "image/png": "[encoded data removed]",
      "text/plain": [
       "<Figure size 640x480 with 1 Axes>"
      ]
     },
     "metadata": {},
     "output_type": "display_data"
    }
   ],
   "source": [
    "import matplotlib\n",
    "import matplotlib.pyplot as plt\n",
    "import numpy as np\n",
    "import pandas as pd\n",
    "import sklearn\n",
    "from sklearn import linear_model\n",
    "height=[[4.0],[5.0],[6.0],[7.0],[8.0],[9.0],[10.0]]\n",
    "weight=[  16, 25 , 36, 49, 64, 81, 100]\n",
    "plt.scatter(height,weight,color='black')\n",
    "plt.xlabel(\"height\")\n",
    "plt.ylabel(\"weight\")\n",
    "reg=linear_model.LinearRegression()\n",
    "reg.fit(height,weight)\n",
    "X_height=[[12.0]]\n",
    "print(reg.predict(X_height))\n"
   ]
  },
  {
   "cell_type": "code",
   "execution_count": 5,
   "id": "9a25239b-742a-4778-a122-ec48cc2c7a39",
   "metadata": {},
   "outputs": [
    {
     "name": "stdout",
     "output_type": "stream",
     "text": [
      "[109.]\n",
      "[235.]\n"
     ]
    }
   ],
   "source": [
    "import pandas as pd\n",
    "x=[[4.0],[5.0],[6.0],[7.0],[8.0],[9.0],[10.0]]\n",
    "y=[  16, 25 , 36, 49,64,81, 100]\n",
    "# Step 2 - Fitting Linear Regression\n",
    "from sklearn.linear_model import LinearRegression\n",
    "lin_reg = LinearRegression()\n",
    "lin_reg.fit(x,y)\n",
    "\n",
    "# Step 4 Linear Regression prediction\n",
    "print(lin_reg.predict([[11]]))\n",
    "from sklearn.pipeline import make_pipeline\n",
    "from sklearn.preprocessing import PolynomialFeatures\n",
    "\n",
    "polynomial_regression = make_pipeline(\n",
    "    PolynomialFeatures(degree=1, include_bias=False),\n",
    "    LinearRegression(),\n",
    ")\n",
    "polynomial_regression.fit(x,y)\n",
    "X_height=[[20.0]]\n",
    "target_predicted = polynomial_regression.predict(X_height)\n",
    "print(target_predicted)"
   ]
  },
  {
   "cell_type": "code",
   "execution_count": 6,
   "id": "69d25cbc-4882-49d5-92a1-239f44f1cee6",
   "metadata": {},
   "outputs": [
    {
     "name": "stdout",
     "output_type": "stream",
     "text": [
      "[400.]\n"
     ]
    }
   ],
   "source": [
    "from sklearn.pipeline import make_pipeline\n",
    "from sklearn.preprocessing import PolynomialFeatures\n",
    "\n",
    "polynomial_regression = make_pipeline(\n",
    "    PolynomialFeatures(degree=2, include_bias=False),\n",
    "    LinearRegression(),\n",
    ")\n",
    "polynomial_regression.fit(x,y)\n",
    "X_height=[[20.0]]\n",
    "target_predicted = polynomial_regression.predict(X_height)\n",
    "print(target_predicted)"
   ]
  },
  {
   "cell_type": "code",
   "execution_count": 12,
   "id": "8acde636-bc3d-4ef3-8fe3-a105fdc08c7a",
   "metadata": {},
   "outputs": [
    {
     "name": "stdout",
     "output_type": "stream",
     "text": [
      "[0]\n"
     ]
    }
   ],
   "source": [
    "import numpy as np\n",
    "import matplotlib.pyplot as plt\n",
    "import pandas as pd\n",
    "from sklearn.tree import DecisionTreeClassifier\n",
    "X = [[30],[40],[50],[60],[20],[10],[70],[39]]\n",
    "y = [0,1,1,1,0,0,1,0]\n",
    "classifier = DecisionTreeClassifier(criterion = 'entropy', random_state = 0)\n",
    "classifier.fit(X,y)\n",
    "X_marks=[[35]]\n",
    "print(classifier.predict(X_marks))"
   ]
  },
  {
   "cell_type": "code",
   "execution_count": 13,
   "id": "f48833a8-f30f-4c4c-bb94-8657e5a59d26",
   "metadata": {},
   "outputs": [
    {
     "name": "stdout",
     "output_type": "stream",
     "text": [
      "[1.]\n"
     ]
    }
   ],
   "source": [
    "import numpy as np\n",
    "import matplotlib.pyplot as plt\n",
    "import pandas as pd\n",
    "from sklearn.ensemble import RandomForestRegressor\n",
    "RandomForestRegModel = RandomForestRegressor()\n",
    "RandomForestRegModel.fit(X,y)\n",
    "X_marks=[[70]]\n",
    "print(RandomForestRegModel.predict(X_marks))"
   ]
  },
  {
   "cell_type": "code",
   "execution_count": 14,
   "id": "fddfb9b2-0a90-448c-b7a5-3bba73e26991",
   "metadata": {},
   "outputs": [
    {
     "name": "stdout",
     "output_type": "stream",
     "text": [
      "[1]\n"
     ]
    }
   ],
   "source": [
    "import numpy as np\n",
    "import matplotlib.pyplot as plt\n",
    "import pandas as pd\n",
    "from sklearn.svm import SVC\n",
    "X = [[30],[40],[50],[60],[20],[10],[70]]\n",
    "y = [0,1,1,1,0,0,1]\n",
    "classifier = SVC(kernel = 'linear', random_state = 0)\n",
    "classifier.fit(X,y)\n",
    "X_marks=[[55]]\n",
    "print(classifier.predict(X_marks))"
   ]
  },
  {
   "cell_type": "code",
   "execution_count": 15,
   "id": "05d48621-6f74-467a-bfa5-7d2469e04ea2",
   "metadata": {},
   "outputs": [
    {
     "name": "stdout",
     "output_type": "stream",
     "text": [
      "[1]\n"
     ]
    }
   ],
   "source": [
    "import numpy as np\n",
    "import matplotlib.pyplot as plt\n",
    "import pandas as pd\n",
    "from sklearn.tree import DecisionTreeClassifier\n",
    "X = [[30],[40],[50],[60],[20],[10],[70]]\n",
    "y = [0,1,1,1,0,0,1]\n",
    "from sklearn.neighbors import KNeighborsClassifier  \n",
    "classifier= KNeighborsClassifier(n_neighbors=5, metric='minkowski', p=2 )  \n",
    "classifier.fit(X,y) \n",
    "X_marks=[[50]]\n",
    "print(classifier.predict(X_marks))"
   ]
  },
  {
   "cell_type": "code",
   "execution_count": null,
   "id": "75baef06-baf7-4ec0-897b-977ec10f91d9",
   "metadata": {},
   "outputs": [],
   "source": []
  }
 ],
 "metadata": {
  "kernelspec": {
   "display_name": "Python 3 (ipykernel)",
   "language": "python",
   "name": "python3"
  },
  "language_info": {
   "codemirror_mode": {
    "name": "ipython",
    "version": 3
   },
   "file_extension": ".py",
   "mimetype": "text/x-python",
   "name": "python",
   "nbconvert_exporter": "python",
   "pygments_lexer": "ipython3",
   "version": "3.11.9"
  }
 },
 "nbformat": 4,
 "nbformat_minor": 5
}
